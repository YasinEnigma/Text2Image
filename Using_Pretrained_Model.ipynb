{
 "cells": [
  {
   "cell_type": "markdown",
   "metadata": {},
   "source": [
    "<h3 style=\"direction: rtl;\">\n",
    "بعد از آموزش شبکه از این فایل می‌توانید برای برنامه اجرایی استفاده کنید.\n",
    "</h3>"
   ]
  },
  {
   "cell_type": "code",
   "execution_count": 1,
   "metadata": {
    "colab": {
     "base_uri": "https://localhost:8080/"
    },
    "id": "glMcCaAmeYF6",
    "outputId": "0ce6aa87-ff1d-4e8e-e522-74287b66979a"
   },
   "outputs": [
    {
     "name": "stdout",
     "output_type": "stream",
     "text": [
      "Mounted at /content/gdrive\n"
     ]
    }
   ],
   "source": [
    "from google.colab import drive\n",
    "drive.mount('/content/gdrive')"
   ]
  },
  {
   "cell_type": "code",
   "execution_count": null,
   "metadata": {
    "id": "vlrCVL0RJ2mp"
   },
   "outputs": [],
   "source": [
    "%tensorflow_version 1.x"
   ]
  },
  {
   "cell_type": "code",
   "execution_count": 3,
   "metadata": {
    "id": "BY9hYxvniO-X"
   },
   "outputs": [],
   "source": [
    "import sys\n",
    "sys.path.append('/content/T2F/implementation/')\n",
    "sys.path.append('/content/T2F/')"
   ]
  },
  {
   "cell_type": "code",
   "execution_count": 1,
   "metadata": {
    "id": "QtIYdnwNJ9H0"
   },
   "outputs": [],
   "source": [
    "import sys\n",
    "sys.path.append('/content/gdrive/MyDrive/T2F/implementation/')\n",
    "sys.path.append('/content/gdrive/MyDrive/T2F/')"
   ]
  },
  {
   "cell_type": "code",
   "execution_count": 2,
   "metadata": {
    "id": "Yhk1hBhjKL62"
   },
   "outputs": [],
   "source": [
    "from train_network import main as main_train\n",
    "from train_network import get_config\n",
    "\n",
    "import argparse\n",
    "\n",
    "parser = argparse.ArgumentParser()\n",
    "parser.add_argument(\"--config\", action=\"store\", type=str, default=\"/content/gdrive/MyDrive/T2F/implementation/configs/colab.conf\",\n",
    "                    help=\"default configuration for the Network\")\n",
    "parser.add_argument(\"--start_depth\", action=\"store\", type=int, default=0,\n",
    "                    help=\"Starting depth for training the network\")\n",
    "parser.add_argument(\"--encoder_file\", action=\"store\", type=str, default=None,\n",
    "                    help=\"pretrained Encoder file (compatible with my code)\")\n",
    "parser.add_argument(\"--ca_file\", action=\"store\", type=str, default=None,\n",
    "                    help=\"pretrained Conditioning Augmentor file (compatible with my code)\")\n",
    "parser.add_argument(\"--generator_file\", action=\"store\", type=str, default=None,\n",
    "                    help=\"pretrained Generator file (compatible with my code)\")\n",
    "parser.add_argument(\"--discriminator_file\", action=\"store\", type=str, default=None,\n",
    "                    help=\"pretrained Discriminator file (compatible with my code)\")\n",
    "\n",
    "args = parser.parse_args([])\n",
    "config = get_config(args.config)"
   ]
  },
  {
   "cell_type": "code",
   "execution_count": 3,
   "metadata": {
    "colab": {
     "base_uri": "https://localhost:8080/"
    },
    "id": "yEWog8n4KXRW",
    "outputId": "586b5032-42dd-4d68-8cb8-3d21db8da0b6"
   },
   "outputs": [
    {
     "name": "stdout",
     "output_type": "stream",
     "text": [
      "Vocab size : 300000\n"
     ]
    }
   ],
   "source": [
    "device = 'cuda'\n",
    "\n",
    "import data_processing.DataLoader as dl\n",
    "\n",
    "dataset = dl.RawTextFace2TextDataset(\n",
    "    annots_file=config.annotations_file,\n",
    "    img_dir=config.images_dir,\n",
    "    img_transform=dl.get_transform(config.img_dims)\n",
    ")\n",
    "from networks.TextEncoder import PretrainedEncoder\n",
    "# create a new session object for the pretrained encoder:\n",
    "text_encoder = PretrainedEncoder(\n",
    "    model_file=config.pretrained_encoder_file,\n",
    "    embedding_file=config.pretrained_embedding_file,\n",
    "    device=device\n",
    ")"
   ]
  },
  {
   "cell_type": "code",
   "execution_count": 4,
   "metadata": {
    "id": "G7GP_cYJjnZg"
   },
   "outputs": [],
   "source": [
    "from networks.ConditionAugmentation import ConditionAugmentor\n",
    "from pro_gan_pytorch.PRO_GAN import ConditionalProGAN\n",
    "\n",
    "import numpy as np\n",
    "\n",
    "def create_grid(samples, scale_factor, img_file, real_imgs=False):\n",
    "    \"\"\"\n",
    "    utility function to create a grid of GAN samples\n",
    "    :param samples: generated samples for storing\n",
    "    :param scale_factor: factor for upscaling the image\n",
    "    :param img_file: name of file to write\n",
    "    :param real_imgs: turn off the scaling of images\n",
    "    :return: None (saves a file)\n",
    "    \"\"\"\n",
    "    from torchvision.utils import save_image\n",
    "    from torch.nn.functional import interpolate\n",
    "\n",
    "    samples = th.clamp((samples / 2) + 0.5, min=0, max=1)\n",
    "\n",
    "    # upsample the image\n",
    "    if not real_imgs and scale_factor > 1:\n",
    "        samples = interpolate(samples,\n",
    "                              scale_factor=scale_factor)\n",
    "\n",
    "    # save the images:\n",
    "    save_image(samples, img_file, nrow=int(np.sqrt(len(samples))))"
   ]
  },
  {
   "cell_type": "code",
   "execution_count": 5,
   "metadata": {
    "colab": {
     "base_uri": "https://localhost:8080/"
    },
    "id": "nAigORpejrAg",
    "outputId": "c6be33b4-6482-437c-82f2-564996e54031"
   },
   "outputs": [
    {
     "name": "stdout",
     "output_type": "stream",
     "text": [
      "Loading conditioning augmenter from: /content/gdrive/My Drive/T2F/training_runs/2/saved_models/Condition_Augmentor_4.pth\n",
      "Loading generator from: /content/gdrive/My Drive/T2F/training_runs/2/saved_models/GAN_GEN_4.pth\n"
     ]
    },
    {
     "data": {
      "text/plain": [
       "<All keys matched successfully>"
      ]
     },
     "execution_count": 5,
     "metadata": {
      "tags": []
     },
     "output_type": "execute_result"
    }
   ],
   "source": [
    "# create the networks\n",
    "import torch\n",
    "condition_augmenter = ConditionAugmentor(\n",
    "    input_size=config.hidden_size,\n",
    "    latent_size=config.ca_out_size,\n",
    "    use_eql=config.use_eql,\n",
    "    device=device\n",
    ")\n",
    "\n",
    "ca_file = '/content/gdrive/My Drive/T2F/training_runs/2/saved_models/Condition_Augmentor_4.pth'\n",
    "\n",
    "print(\"Loading conditioning augmenter from:\", ca_file)\n",
    "condition_augmenter.load_state_dict(torch.load(ca_file))\n",
    "\n",
    "c_pro_gan = ConditionalProGAN(\n",
    "    embedding_size=config.hidden_size,\n",
    "    depth=config.depth,\n",
    "    latent_size=config.latent_size,\n",
    "    compressed_latent_size=config.compressed_latent_size,\n",
    "    learning_rate=config.learning_rate,\n",
    "    beta_1=config.beta_1,\n",
    "    beta_2=config.beta_2,\n",
    "    eps=config.eps,\n",
    "    drift=config.drift,\n",
    "    n_critic=config.n_critic,\n",
    "    use_eql=config.use_eql,\n",
    "    loss=config.loss_function,\n",
    "    use_ema=config.use_ema,\n",
    "    ema_decay=config.ema_decay,\n",
    "    device=device\n",
    ")\n",
    "\n",
    "generator_file = '/content/gdrive/My Drive/T2F/training_runs/2/saved_models/GAN_GEN_4.pth'\n",
    "print(\"Loading generator from:\", generator_file)\n",
    "c_pro_gan.gen.load_state_dict(torch.load(generator_file))"
   ]
  },
  {
   "cell_type": "code",
   "execution_count": 6,
   "metadata": {
    "colab": {
     "base_uri": "https://localhost:8080/"
    },
    "id": "Z7KyHgk5juj4",
    "outputId": "ec2bb7d0-88b3-459c-8a5f-de913b1ccc82"
   },
   "outputs": [
    {
     "data": {
      "text/plain": [
       "ConditionAugmentor(\n",
       "  (transformer): _equalized_linear()\n",
       ")"
      ]
     },
     "execution_count": 6,
     "metadata": {
      "tags": []
     },
     "output_type": "execute_result"
    }
   ],
   "source": [
    "condition_augmenter.train(False)"
   ]
  },
  {
   "cell_type": "code",
   "execution_count": 7,
   "metadata": {
    "id": "UB_wPdl-jwxC"
   },
   "outputs": [],
   "source": [
    "temp_data = dl.get_data_loader(dataset, 1, num_workers=3)\n",
    "fixed_captions, fixed_real_images = iter(temp_data).next()"
   ]
  },
  {
   "cell_type": "code",
   "execution_count": 10,
   "metadata": {
    "colab": {
     "base_uri": "https://localhost:8080/"
    },
    "id": "jYiOkDlQjzEJ",
    "outputId": "7b328623-8da1-47f5-ded3-83f8869bbcc5"
   },
   "outputs": [
    {
     "name": "stdout",
     "output_type": "stream",
     "text": [
      "Enter your caption : an old man\n"
     ]
    }
   ],
   "source": [
    "str = input('Enter your caption : ')"
   ]
  },
  {
   "cell_type": "code",
   "execution_count": 11,
   "metadata": {
    "id": "FUe1BbN2j1IS"
   },
   "outputs": [],
   "source": [
    "fixed_caption = (str,)\n",
    "fixed_captions = fixed_caption"
   ]
  },
  {
   "cell_type": "code",
   "execution_count": 12,
   "metadata": {
    "id": "fW2ewCp4j3Ze"
   },
   "outputs": [],
   "source": [
    "fixed_embeddings = text_encoder(fixed_captions)\n",
    "fixed_embeddings = torch.from_numpy(fixed_embeddings).to(device)\n",
    "\n",
    "fixed_c_not_hats, mus, _ = condition_augmenter(fixed_embeddings)\n",
    "\n",
    "fixed_noise = torch.zeros(len(fixed_captions),\n",
    "                       c_pro_gan.latent_size - fixed_c_not_hats.shape[-1]).to(device)\n",
    "\n",
    "fixed_gan_input = torch.cat((fixed_c_not_hats, fixed_noise), dim=-1)"
   ]
  },
  {
   "cell_type": "code",
   "execution_count": 13,
   "metadata": {
    "colab": {
     "base_uri": "https://localhost:8080/",
     "height": 285
    },
    "id": "Txgsr3e2j5fX",
    "outputId": "d7044efc-580a-41d5-adc7-cd2a24198c2b"
   },
   "outputs": [
    {
     "data": {
      "text/plain": [
       "<matplotlib.image.AxesImage at 0x7fa2e81bce80>"
      ]
     },
     "execution_count": 13,
     "metadata": {
      "tags": []
     },
     "output_type": "execute_result"
    },
    {
     "data": {
      "image/png": "[encoded data removed]",
      "text/plain": [
       "<Figure size 432x288 with 1 Axes>"
      ]
     },
     "metadata": {
      "needs_background": "light",
      "tags": []
     },
     "output_type": "display_data"
    }
   ],
   "source": [
    "import torch as th\n",
    "import matplotlib.pyplot as plt\n",
    "\n",
    "create_grid(\n",
    "    samples=c_pro_gan.gen(\n",
    "        fixed_gan_input,\n",
    "        4,\n",
    "        1.0\n",
    "    ),\n",
    "    scale_factor=1,\n",
    "    img_file='output.png')\n",
    "\n",
    "img = plt.imread('output.png')\n",
    "plt.figure()\n",
    "plt.imshow(img)"
   ]
  },
  {
   "cell_type": "code",
   "execution_count": 34,
   "metadata": {
    "colab": {
     "base_uri": "https://localhost:8080/"
    },
    "id": "VAzxmSlaj735",
    "outputId": "c988c54a-01d3-47b5-8696-4e4f1c17e2f4"
   },
   "outputs": [
    {
     "data": {
      "text/plain": [
       "('an older adult man looking somewhat cofused, angry or anxious. he seems to be from a mediterran area.',)"
      ]
     },
     "execution_count": 34,
     "metadata": {
      "tags": []
     },
     "output_type": "execute_result"
    }
   ],
   "source": [
    "  fixed_captions"
   ]
  }
 ],
 "metadata": {
  "accelerator": "GPU",
  "colab": {
   "collapsed_sections": [],
   "name": "Using Pretrained Model.ipynb",
   "provenance": []
  },
  "kernelspec": {
   "display_name": "Python 3",
   "language": "python",
   "name": "python3"
  },
  "language_info": {
   "codemirror_mode": {
    "name": "ipython",
    "version": 3
   },
   "file_extension": ".py",
   "mimetype": "text/x-python",
   "name": "python",
   "nbconvert_exporter": "python",
   "pygments_lexer": "ipython3",
   "version": "3.8.3"
  }
 },
 "nbformat": 4,
 "nbformat_minor": 1
}
